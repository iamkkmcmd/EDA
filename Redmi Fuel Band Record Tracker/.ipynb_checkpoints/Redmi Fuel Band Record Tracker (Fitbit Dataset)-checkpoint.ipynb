{
 "cells": [
  {
   "cell_type": "markdown",
   "id": "81161ec3",
   "metadata": {},
   "source": [
    "<h3 style = 'color: #4E9F3D'> Setup environment"
   ]
  },
  {
   "cell_type": "code",
   "execution_count": 2,
   "id": "6ef6849b",
   "metadata": {},
   "outputs": [],
   "source": [
    "rm(list = ls())\n",
    "graphics.off()\n",
    "setwd('C:/Users/System Administrator/Desktop/Redmi Fuel Band Record Tracker/')"
   ]
  },
  {
   "cell_type": "code",
   "execution_count": 3,
   "id": "51d3c206",
   "metadata": {},
   "outputs": [
    {
     "name": "stderr",
     "output_type": "stream",
     "text": [
      "Registered S3 methods overwritten by 'ggplot2':\n",
      "  method         from \n",
      "  [.quosures     rlang\n",
      "  c.quosures     rlang\n",
      "  print.quosures rlang\n",
      "Registered S3 method overwritten by 'rvest':\n",
      "  method            from\n",
      "  read_xml.response xml2\n",
      "-- Attaching packages --------------------------------------- tidyverse 1.2.1 --\n",
      "v ggplot2 3.1.1       v purrr   0.3.2  \n",
      "v tibble  2.1.1       v dplyr   0.8.0.1\n",
      "v tidyr   0.8.3       v stringr 1.4.0  \n",
      "v readr   1.3.1       v forcats 0.4.0  \n",
      "-- Conflicts ------------------------------------------ tidyverse_conflicts() --\n",
      "x dplyr::filter() masks stats::filter()\n",
      "x dplyr::lag()    masks stats::lag()\n"
     ]
    }
   ],
   "source": [
    "library(tidyverse)"
   ]
  },
  {
   "cell_type": "markdown",
   "id": "165a57b9",
   "metadata": {},
   "source": [
    "<h3 style = 'color: #4E9F3D'> Preview data"
   ]
  },
  {
   "cell_type": "code",
   "execution_count": 4,
   "id": "f9cfc7b4",
   "metadata": {},
   "outputs": [
    {
     "data": {
      "text/html": [
       "<table>\n",
       "<thead><tr><th scope=col>X</th><th scope=col>activity_day</th><th scope=col>workout_type</th><th scope=col>distance</th><th scope=col>time</th><th scope=col>calories</th><th scope=col>total_steps</th><th scope=col>avg_speed</th><th scope=col>avg_cadence</th><th scope=col>max_cadence</th><th scope=col>...</th><th scope=col>max_pace</th><th scope=col>min_pace</th><th scope=col>avg_heart_rate</th><th scope=col>max_heart_rate</th><th scope=col>min_heart_rate</th><th scope=col>vo2_max...</th><th scope=col>aerobic...</th><th scope=col>anaerobic...</th><th scope=col>intensive...</th><th scope=col>light...</th></tr></thead>\n",
       "<tbody>\n",
       "\t<tr><td>0              </td><td>2022-01-01     </td><td>Freestyle      </td><td>9.30           </td><td> 77            </td><td>123            </td><td>  NA           </td><td>18.88          </td><td>168.54         </td><td>138.30         </td><td>...            </td><td>nan            </td><td>nan            </td><td>112.5          </td><td>122            </td><td>103            </td><td>19             </td><td>28             </td><td> 2             </td><td> 7             </td><td>50             </td></tr>\n",
       "\t<tr><td>1              </td><td>2022-01-01     </td><td>Freestyle      </td><td>3.44           </td><td> 96            </td><td> 55            </td><td>  NA           </td><td>29.65          </td><td>125.92         </td><td>292.81         </td><td>...            </td><td>nan            </td><td>nan            </td><td>111.0          </td><td>122            </td><td>100            </td><td>42             </td><td>28             </td><td> 2             </td><td>29             </td><td>88             </td></tr>\n",
       "\t<tr><td>2              </td><td>2022-01-01     </td><td>Indoor Cycling </td><td>6.34           </td><td> 85            </td><td> 33            </td><td>  NA           </td><td>17.85          </td><td> 81.93         </td><td>323.69         </td><td>...            </td><td>nan            </td><td>nan            </td><td> 95.0          </td><td> 90            </td><td>100            </td><td> 1             </td><td>32             </td><td> 0             </td><td>22             </td><td>43             </td></tr>\n",
       "\t<tr><td>3              </td><td>2022-01-01     </td><td>Walking        </td><td>7.91           </td><td> 42            </td><td> 82            </td><td>1571           </td><td>22.10          </td><td> 29.63         </td><td>180.16         </td><td>...            </td><td>28:58          </td><td>07:58          </td><td> 83.0          </td><td> 85            </td><td> 81            </td><td> 3             </td><td>22             </td><td> 0             </td><td>24             </td><td>65             </td></tr>\n",
       "\t<tr><td>4              </td><td>2022-01-01     </td><td>Open Water     </td><td>8.99           </td><td> 36            </td><td>131            </td><td>  NA           </td><td>25.83          </td><td> 64.55         </td><td>342.89         </td><td>...            </td><td>nan            </td><td>nan            </td><td>138.0          </td><td>166            </td><td>110            </td><td> 7             </td><td> 0             </td><td> 5             </td><td>21             </td><td>88             </td></tr>\n",
       "\t<tr><td>5              </td><td>2022-01-01     </td><td>Outdoor Cycling</td><td>5.47           </td><td>117            </td><td>144            </td><td>  NA           </td><td> 2.20          </td><td> 43.47         </td><td>291.67         </td><td>...            </td><td>nan            </td><td>nan            </td><td>142.0          </td><td>177            </td><td>107            </td><td>44             </td><td>45             </td><td>15             </td><td>57             </td><td>39             </td></tr>\n",
       "</tbody>\n",
       "</table>\n"
      ],
      "text/latex": [
       "\\begin{tabular}{r|lllllllllllllllllllll}\n",
       " X & activity\\_day & workout\\_type & distance & time & calories & total\\_steps & avg\\_speed & avg\\_cadence & max\\_cadence & ... & max\\_pace & min\\_pace & avg\\_heart\\_rate & max\\_heart\\_rate & min\\_heart\\_rate & vo2\\_max... & aerobic... & anaerobic... & intensive... & light...\\\\\n",
       "\\hline\n",
       "\t 0               & 2022-01-01      & Freestyle       & 9.30            &  77             & 123             &   NA            & 18.88           & 168.54          & 138.30          & ...             & nan             & nan             & 112.5           & 122             & 103             & 19              & 28              &  2              &  7              & 50             \\\\\n",
       "\t 1               & 2022-01-01      & Freestyle       & 3.44            &  96             &  55             &   NA            & 29.65           & 125.92          & 292.81          & ...             & nan             & nan             & 111.0           & 122             & 100             & 42              & 28              &  2              & 29              & 88             \\\\\n",
       "\t 2               & 2022-01-01      & Indoor Cycling  & 6.34            &  85             &  33             &   NA            & 17.85           &  81.93          & 323.69          & ...             & nan             & nan             &  95.0           &  90             & 100             &  1              & 32              &  0              & 22              & 43             \\\\\n",
       "\t 3               & 2022-01-01      & Walking         & 7.91            &  42             &  82             & 1571            & 22.10           &  29.63          & 180.16          & ...             & 28:58           & 07:58           &  83.0           &  85             &  81             &  3              & 22              &  0              & 24              & 65             \\\\\n",
       "\t 4               & 2022-01-01      & Open Water      & 8.99            &  36             & 131             &   NA            & 25.83           &  64.55          & 342.89          & ...             & nan             & nan             & 138.0           & 166             & 110             &  7              &  0              &  5              & 21              & 88             \\\\\n",
       "\t 5               & 2022-01-01      & Outdoor Cycling & 5.47            & 117             & 144             &   NA            &  2.20           &  43.47          & 291.67          & ...             & nan             & nan             & 142.0           & 177             & 107             & 44              & 45              & 15              & 57              & 39             \\\\\n",
       "\\end{tabular}\n"
      ],
      "text/markdown": [
       "\n",
       "| X | activity_day | workout_type | distance | time | calories | total_steps | avg_speed | avg_cadence | max_cadence | ... | max_pace | min_pace | avg_heart_rate | max_heart_rate | min_heart_rate | vo2_max... | aerobic... | anaerobic... | intensive... | light... |\n",
       "|---|---|---|---|---|---|---|---|---|---|---|---|---|---|---|---|---|---|---|---|---|\n",
       "| 0               | 2022-01-01      | Freestyle       | 9.30            |  77             | 123             |   NA            | 18.88           | 168.54          | 138.30          | ...             | nan             | nan             | 112.5           | 122             | 103             | 19              | 28              |  2              |  7              | 50              |\n",
       "| 1               | 2022-01-01      | Freestyle       | 3.44            |  96             |  55             |   NA            | 29.65           | 125.92          | 292.81          | ...             | nan             | nan             | 111.0           | 122             | 100             | 42              | 28              |  2              | 29              | 88              |\n",
       "| 2               | 2022-01-01      | Indoor Cycling  | 6.34            |  85             |  33             |   NA            | 17.85           |  81.93          | 323.69          | ...             | nan             | nan             |  95.0           |  90             | 100             |  1              | 32              |  0              | 22              | 43              |\n",
       "| 3               | 2022-01-01      | Walking         | 7.91            |  42             |  82             | 1571            | 22.10           |  29.63          | 180.16          | ...             | 28:58           | 07:58           |  83.0           |  85             |  81             |  3              | 22              |  0              | 24              | 65              |\n",
       "| 4               | 2022-01-01      | Open Water      | 8.99            |  36             | 131             |   NA            | 25.83           |  64.55          | 342.89          | ...             | nan             | nan             | 138.0           | 166             | 110             |  7              |  0              |  5              | 21              | 88              |\n",
       "| 5               | 2022-01-01      | Outdoor Cycling | 5.47            | 117             | 144             |   NA            |  2.20           |  43.47          | 291.67          | ...             | nan             | nan             | 142.0           | 177             | 107             | 44              | 45              | 15              | 57              | 39              |\n",
       "\n"
      ],
      "text/plain": [
       "  X activity_day workout_type    distance time calories total_steps avg_speed\n",
       "1 0 2022-01-01   Freestyle       9.30      77  123        NA        18.88    \n",
       "2 1 2022-01-01   Freestyle       3.44      96   55        NA        29.65    \n",
       "3 2 2022-01-01   Indoor Cycling  6.34      85   33        NA        17.85    \n",
       "4 3 2022-01-01   Walking         7.91      42   82      1571        22.10    \n",
       "5 4 2022-01-01   Open Water      8.99      36  131        NA        25.83    \n",
       "6 5 2022-01-01   Outdoor Cycling 5.47     117  144        NA         2.20    \n",
       "  avg_cadence max_cadence ... max_pace min_pace avg_heart_rate max_heart_rate\n",
       "1 168.54      138.30      ... nan      nan      112.5          122           \n",
       "2 125.92      292.81      ... nan      nan      111.0          122           \n",
       "3  81.93      323.69      ... nan      nan       95.0           90           \n",
       "4  29.63      180.16      ... 28:58    07:58     83.0           85           \n",
       "5  64.55      342.89      ... nan      nan      138.0          166           \n",
       "6  43.47      291.67      ... nan      nan      142.0          177           \n",
       "  min_heart_rate vo2_max... aerobic... anaerobic... intensive... light...\n",
       "1 103            19         28          2            7           50      \n",
       "2 100            42         28          2           29           88      \n",
       "3 100             1         32          0           22           43      \n",
       "4  81             3         22          0           24           65      \n",
       "5 110             7          0          5           21           88      \n",
       "6 107            44         45         15           57           39      "
      ]
     },
     "metadata": {},
     "output_type": "display_data"
    }
   ],
   "source": [
    "fitbit <- read.csv('./Activity_Dataset_V1.csv')\n",
    "fitbit  %>% head()"
   ]
  },
  {
   "cell_type": "markdown",
   "id": "ee70b512",
   "metadata": {},
   "source": [
    "<h3 style = 'color: #4E9F3D'> Dimention and variable types"
   ]
  },
  {
   "cell_type": "markdown",
   "id": "e51aebdb",
   "metadata": {},
   "source": [
    "<h3 style = 'color: #4E9F3D'> Checking missing values"
   ]
  },
  {
   "cell_type": "markdown",
   "id": "cba1e188",
   "metadata": {},
   "source": [
    "<h3 style = 'color: #4E9F3D'> Final data for EDA"
   ]
  },
  {
   "cell_type": "markdown",
   "id": "79c39a78",
   "metadata": {},
   "source": [
    "<h3 style = 'color: #4E9F3D'> Plot count distribution of categorical data"
   ]
  },
  {
   "cell_type": "markdown",
   "id": "2df0188f",
   "metadata": {},
   "source": [
    "<h3 style = 'color: #4E9F3D'> Plot distribution of numeric data (univariate and pairwise joint distribution)"
   ]
  },
  {
   "cell_type": "code",
   "execution_count": null,
   "id": "ac29a78b",
   "metadata": {},
   "outputs": [],
   "source": []
  }
 ],
 "metadata": {
  "kernelspec": {
   "display_name": "R",
   "language": "R",
   "name": "ir"
  },
  "language_info": {
   "codemirror_mode": "r",
   "file_extension": ".r",
   "mimetype": "text/x-r-source",
   "name": "R",
   "pygments_lexer": "r",
   "version": "3.6.1"
  }
 },
 "nbformat": 4,
 "nbformat_minor": 5
}
